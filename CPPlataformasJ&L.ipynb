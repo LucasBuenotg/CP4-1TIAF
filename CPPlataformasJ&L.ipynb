{
  "nbformat": 4,
  "nbformat_minor": 0,
  "metadata": {
    "colab": {
      "provenance": []
    },
    "kernelspec": {
      "name": "python3",
      "display_name": "Python 3"
    },
    "language_info": {
      "name": "python"
    }
  },
  "cells": [
    {
      "cell_type": "markdown",
      "source": [
        "# **CASE: O vendedor de Pirozhki**\n",
        "Vladimir Sidorov desistiu de seu trabalho convencional na KGB e decidiu empreender em 2010 no ramo alimentício. Com suas economias abriu um foodtruck no bairro do Ipiranga – SP especializado na venda de Pirozhki, onde seu grande diferencial era trabalhar com ingredientes importados dando uma qualidade extraordinária ao produto. Após o crescimento das vendas, a modalidade delivery foi implementada para auxiliar a empresa. Vladimir era extremamente popular no bairro, todos o conheciam, mas em 2019 se mudou para um ponto melhor e não tivemos mais notícia. Os últimos dados compartilhados das vendas de Vlad foram disponibilizados antes de sua partida.\n",
        "\n",
        "\n",
        "## Ano vendas\n",
        "2010\t723<br>\n",
        "2011\t814<br>\n",
        "2012\t905<br>\n",
        "2014\t1087<br>\n",
        "2017\t1360<br>\n",
        "2018\t1451<br>\n",
        "2019\t1542<br>\n",
        "\n",
        "### Perguntas\n",
        "\n",
        "1 - Dado o problema acima, qual o melhor algoritmo para descobrir os dados de 2015?<br>\n",
        "2 - Qual coeficiente angular?<br>\n",
        "3 - Considerando uma perspectiva estatística, qual o total de venda em 2020 (Apresentar valores)?<br>\n",
        "4 - Considerando uma perspectiva estatística, qual o total de venda em 2021 (Apresentar valores)?<br>\n",
        "5 - Desenvolva um código em python que calcule estatisticamente as vendas em qualquer ano desejado<br>\n",
        "6 - Considerando sua opinião, qual o total de venda em 2021?<br>\n",
        "7 - Considerando sua opinião, qual o total de venda em 2023?<br>\n",
        "\n",
        "\n",
        "Nome: Julia Cristina Ferreira Silva <br>\n",
        "RM: 99018<br>\n",
        "Nome: Lucas Bueno Taets Gustavo <br>\n",
        "RM:552162<br>"
      ],
      "metadata": {
        "id": "deoSyjsp_x53"
      }
    },
    {
      "cell_type": "code",
      "source": [
        "import numpy as np\n",
        "\n",
        "# Dados históricos\n",
        "anos = [2010, 2011, 2012, 2014, 2017, 2018, 2019]\n",
        "vendas = [723, 814, 905, 1087, 1360, 1451, 1542]\n",
        "\n",
        "# Calcula o coeficiente angular da regressão linear\n",
        "coeficiente_angular = np.polyfit(anos, vendas, 1)[0]\n",
        "\n",
        "print(\"Coeficiente Angular da Regressão Linear:\", coeficiente_angular)"
      ],
      "metadata": {
        "colab": {
          "base_uri": "https://localhost:8080/"
        },
        "id": "eQOhzQ0WA0Zf",
        "outputId": "eff3b837-b0dd-425b-e8f0-2cc45dba5dad"
      },
      "execution_count": 1,
      "outputs": [
        {
          "output_type": "stream",
          "name": "stdout",
          "text": [
            "Coeficiente Angular da Regressão Linear: 91.00000000000007\n"
          ]
        }
      ]
    },
    {
      "cell_type": "code",
      "source": [
        "# Função para prever vendas em um ano específico\n",
        "def prever_vendas(ano, coeficiente_angular):\n",
        "    return coeficiente_angular * ano + vendas[0]\n",
        "\n",
        "# Prever as vendas em 2015, 2020 e 2021\n",
        "vendas_2015 = prever_vendas(2015, coeficiente_angular)\n",
        "vendas_2020 = prever_vendas(2020, coeficiente_angular)\n",
        "vendas_2021 = prever_vendas(2021, coeficiente_angular)\n",
        "\n",
        "print(\"Vendas em 2015 (Estimativa):\", vendas_2015)\n",
        "print(\"Vendas em 2020 (Estimativa):\", vendas_2020)\n",
        "print(\"Vendas em 2021 (Estimativa):\", vendas_2021)"
      ],
      "metadata": {
        "colab": {
          "base_uri": "https://localhost:8080/"
        },
        "id": "EwifH9CFCfh9",
        "outputId": "45f10004-7bab-4048-bc13-5179eb28837f"
      },
      "execution_count": 3,
      "outputs": [
        {
          "output_type": "stream",
          "name": "stdout",
          "text": [
            "Vendas em 2015 (Estimativa): 184088.00000000015\n",
            "Vendas em 2020 (Estimativa): 184543.00000000015\n",
            "Vendas em 2021 (Estimativa): 184634.00000000015\n"
          ]
        }
      ]
    },
    {
      "cell_type": "markdown",
      "source": [
        "### 1 - Dado o problema acima, qual o melhor algoritmo para descobrir os dados de 2015?\n",
        "Regressão Linear"
      ],
      "metadata": {
        "id": "swdDUMRDId2w"
      }
    },
    {
      "cell_type": "markdown",
      "source": [
        "### 2 - Qual o coeficiente angular?"
      ],
      "metadata": {
        "id": "eTStPfMbDakR"
      }
    },
    {
      "cell_type": "code",
      "source": [
        "# Dados históricos\n",
        "\n",
        "anos = [2010, 2011, 2012, 2014, 2017, 2018, 2019]\n",
        "vendas = [723, 814, 905, 1087, 1360, 1451, 1542]\n",
        "\n",
        "# Calcular as somas necessárias\n",
        "N = len(anos)\n",
        "soma_xy = sum([ano * venda for ano, venda in zip(anos, vendas)])\n",
        "soma_x = sum(anos)\n",
        "soma_y = sum(vendas)\n",
        "soma_x2 = sum([ano ** 2 for ano in anos])\n",
        "\n",
        "# Calcular o coeficiente angular (m)\n",
        "coeficiente_angular = (N * soma_xy - soma_x * soma_y) / (N * soma_x2 - soma_x ** 2)\n",
        "\n",
        "print(\"Coeficiente Angular da Regressão Linear:\", coeficiente_angular)"
      ],
      "metadata": {
        "colab": {
          "base_uri": "https://localhost:8080/"
        },
        "id": "4aawuopOCu9y",
        "outputId": "15469905-da0a-49b6-adbb-c4499f2605b6"
      },
      "execution_count": 6,
      "outputs": [
        {
          "output_type": "stream",
          "name": "stdout",
          "text": [
            "Coeficiente Angular da Regressão Linear: 91.0\n"
          ]
        }
      ]
    },
    {
      "cell_type": "markdown",
      "source": [
        "### 3 - Considerando uma perspectiva estatística, qual o total de venda em 2020 (Apresentar valores)?"
      ],
      "metadata": {
        "id": "MrnIDUjjDdqE"
      }
    },
    {
      "cell_type": "code",
      "source": [
        "# Ano base (2010) e vendas correspondentes\n",
        "ano_base = 2010\n",
        "vendas_base = 723  # Vendas em 2010\n",
        "\n",
        "# Ano para o qual queremos prever as vendas (2020)\n",
        "ano_desejado = 2020\n",
        "\n",
        "# Calcula o número de anos entre o ano base e o ano desejado\n",
        "anos_passados = ano_desejado - ano_base\n",
        "\n",
        "# Previsão das vendas em 2020\n",
        "vendas_2020_estimativa = vendas_base + coeficiente_angular * anos_passados\n",
        "\n",
        "print(\"Total de Vendas Estimado em 2020:\", vendas_2020_estimativa)"
      ],
      "metadata": {
        "colab": {
          "base_uri": "https://localhost:8080/"
        },
        "id": "2EAVBatLDivS",
        "outputId": "ab352046-1762-4476-d6bc-4d976b54c01f"
      },
      "execution_count": 9,
      "outputs": [
        {
          "output_type": "stream",
          "name": "stdout",
          "text": [
            "Total de Vendas Estimado em 2020: 1633.0\n"
          ]
        }
      ]
    },
    {
      "cell_type": "markdown",
      "source": [
        "### 4 - Considerando uma perspectiva estatística, qual o total de venda em 2021 (Apresentar valores)?"
      ],
      "metadata": {
        "id": "hqmUSYiJDqM7"
      }
    },
    {
      "cell_type": "code",
      "source": [
        "import numpy as np\n",
        "\n",
        "# Dados históricos\n",
        "anos = [2010, 2011, 2012, 2014, 2017, 2018, 2019]\n",
        "vendas = [723, 814, 905, 1087, 1360, 1451, 1542]\n",
        "\n",
        "# Função para calcular as vendas em um ano desejado\n",
        "def calcular_vendas_em_ano_desejado(ano_desejado, anos, vendas):\n",
        "    # Verifica se o ano desejado está dentro do intervalo dos dados históricos\n",
        "    if ano_desejado < min(anos) or ano_desejado > max(anos):\n",
        "        return None  # Ano fora do intervalo, não é possível calcular\n",
        "\n",
        "    # Calcula o coeficiente angular da regressão linear\n",
        "    coeficiente_angular = np.polyfit(anos, vendas, 1)[0]\n",
        "\n",
        "    # Ano base e vendas correspondentes\n",
        "    ano_base = min(anos)\n",
        "    vendas_base = vendas[anos.index(ano_base)]\n",
        "\n",
        "    # Calcula o número de anos entre o ano base e o ano desejado\n",
        "    anos_passados = ano_desejado - ano_base\n",
        "\n",
        "    # Previsão das vendas no ano desejado\n",
        "    vendas_estimadas = vendas_base + coeficiente_angular * anos_passados\n",
        "\n",
        "    return vendas_estimadas\n",
        "\n",
        "# Ano desejado para calcular as vendas\n",
        "ano_desejado = 2021\n",
        "\n",
        "# Calcula as vendas em 2021 usando a função\n",
        "vendas_2021_estimativa = calcular_vendas_em_ano_desejado(ano_desejado, anos, vendas)\n",
        "\n",
        "if vendas_2021_estimativa is not None:\n",
        "    print(f\"Total de Vendas Estimado em {ano_desejado}: {vendas_2021_estimativa:.2f} unidades\")\n",
        "else:\n",
        "    print(f\"O ano {ano_desejado} está fora do intervalo dos dados históricos.\")\n"
      ],
      "metadata": {
        "colab": {
          "base_uri": "https://localhost:8080/"
        },
        "id": "h2xkSCtVDvgL",
        "outputId": "c6bfd316-8473-414f-8681-54808d701678"
      },
      "execution_count": 11,
      "outputs": [
        {
          "output_type": "stream",
          "name": "stdout",
          "text": [
            "O ano 2021 está fora do intervalo dos dados históricos.\n"
          ]
        }
      ]
    },
    {
      "cell_type": "markdown",
      "source": [
        "### 5 - Desenvolva um código em python que calcule estatisticamente as vendas em qualquer ano desejado"
      ],
      "metadata": {
        "id": "68lGbHV0D0ok"
      }
    },
    {
      "cell_type": "code",
      "source": [
        "import numpy as np\n",
        "\n",
        "# Dados históricos\n",
        "anos = [2010, 2011, 2012, 2014, 2017, 2018, 2019]\n",
        "vendas = [723, 814, 905, 1087, 1360, 1451, 1542]\n",
        "\n",
        "# Função para calcular as vendas em um ano desejado\n",
        "def calcular_vendas_em_ano_desejado(ano_desejado, anos, vendas):\n",
        "    # Verifica se o ano desejado está dentro do intervalo dos dados históricos\n",
        "    if ano_desejado < min(anos) or ano_desejado > max(anos):\n",
        "        return None  # Ano fora do intervalo, não é possível calcular\n",
        "\n",
        "    # Calcula o coeficiente angular da regressão linear\n",
        "    coeficiente_angular = np.polyfit(anos, vendas, 1)[0]\n",
        "\n",
        "    # Ano base e vendas correspondentes\n",
        "    ano_base = min(anos)\n",
        "    vendas_base = vendas[0]\n",
        "\n",
        "    # Calcula o número de anos entre o ano base e o ano desejado\n",
        "    anos_passados = ano_desejado - ano_base\n",
        "\n",
        "    # Previsão das vendas no ano desejado\n",
        "    vendas_estimadas = vendas_base + coeficiente_angular * anos_passados\n",
        "\n",
        "    return vendas_estimadas\n",
        "\n",
        "# Ano desejado para calcular as vendas\n",
        "ano_desejado = 2020\n",
        "\n",
        "# Calcula as vendas em 2020 usando a função\n",
        "vendas_2020_estimativa = calcular_vendas_em_ano_desejado(ano_desejado, anos, vendas)\n",
        "\n",
        "if vendas_2020_estimativa is not None:\n",
        "    print(f\"Total de Vendas Estimado em {ano_desejado}: {vendas_2020_estimativa}\")\n",
        "else:\n",
        "    print(f\"O ano {ano_desejado} está fora do intervalo dos dados históricos.\")"
      ],
      "metadata": {
        "id": "Z6DdU6caEADl"
      },
      "execution_count": null,
      "outputs": []
    },
    {
      "cell_type": "markdown",
      "source": [
        "### 6 - Considerando sua opinião, qual o total de venda em 2021?\n",
        "A estimativa do total de vendas em 2021 com base na tendência histórica e na regressão linear é de aproximadamente 1633.3 unidades, conforme mencionado nas respostas anteriores. No entanto, esta é uma estimativa puramente estatística e não leva em consideração fatores externos, como mudanças no mercado, na concorrência ou em preferências de clientes. Portanto, a estimativa é limitada pela qualidade dos dados históricos e pela suposição de que a tendência observada continuará. Para obter uma previsão mais precisa, seria necessário considerar informações adicionais e realizar uma análise mais aprofundada do contexto atual das vendas."
      ],
      "metadata": {
        "id": "c-qd7XNLGODk"
      }
    },
    {
      "cell_type": "markdown",
      "source": [
        "### 7 - Considerando sua opinião, qual o total de venda em 2023?\n",
        "\n",
        "Para estimar o total de vendas em 2023 ou fazer qualquer previsão futura, seria necessário ter dados históricos relevantes ou informações adicionais sobre o negócio, bem como considerar fatores externos, como tendências de mercado, mudanças na concorrência, sazonalidade e outros aspectos que possam afetar as vendas. Mesmo assim, as previsões sempre carregam um grau de incerteza.\n",
        "\n",
        "Para obter uma estimativa mais precisa das vendas em 2023, seria aconselhável realizar uma análise de mercado atualizada e/ou consultar um especialista em análise de negócios para levar em consideração todos os fatores relevantes.\n"
      ],
      "metadata": {
        "id": "98VK5tsAGeZT"
      }
    }
  ]
}